{
  "nbformat": 4,
  "nbformat_minor": 0,
  "metadata": {
    "colab": {
      "name": "multilayer perceptron.ipynb",
      "provenance": [],
      "authorship_tag": "ABX9TyPlzxPp3FZcaEqcq6zj8n2N",
      "include_colab_link": true
    },
    "kernelspec": {
      "name": "python3",
      "display_name": "Python 3"
    },
    "language_info": {
      "name": "python"
    }
  },
  "cells": [
    {
      "cell_type": "markdown",
      "metadata": {
        "id": "view-in-github",
        "colab_type": "text"
      },
      "source": [
        "<a href=\"https://colab.research.google.com/github/AfnanAbouElwafa/basic-machine-learning-models/blob/main/multilayer_perceptron.ipynb\" target=\"_parent\"><img src=\"https://colab.research.google.com/assets/colab-badge.svg\" alt=\"Open In Colab\"/></a>"
      ]
    },
    {
      "cell_type": "markdown",
      "source": [
        "Importing the dependencies"
      ],
      "metadata": {
        "id": "iiuTjO1oZCpi"
      }
    },
    {
      "cell_type": "code",
      "execution_count": 39,
      "metadata": {
        "id": "bYP3W9TfXr82"
      },
      "outputs": [],
      "source": [
        "from sklearn.neural_network import MLPClassifier\n",
        "from sklearn.datasets import make_moons\n",
        "from sklearn.model_selection import train_test_split\n",
        "from sklearn.metrics import accuracy_score\n"
      ]
    },
    {
      "cell_type": "markdown",
      "source": [
        "Data collection and Spliting data to training and testing data"
      ],
      "metadata": {
        "id": "j7Wjhc8NZLtr"
      }
    },
    {
      "cell_type": "code",
      "source": [
        "X, y = make_moons(n_samples=100, noise=0.25, random_state=3)\n",
        "\n",
        "X_train, X_test, y_train, y_test = train_test_split(X, y, stratify=y, random_state=42)"
      ],
      "metadata": {
        "id": "3cbXgfSOZWWm"
      },
      "execution_count": 40,
      "outputs": []
    },
    {
      "cell_type": "markdown",
      "source": [
        "Model training"
      ],
      "metadata": {
        "id": "Io8Ts6KUZe54"
      }
    },
    {
      "cell_type": "code",
      "source": [
        "#MLP With a single hidden layer, and 10 hidden units\n",
        "mlp = MLPClassifier(solver='lbfgs', random_state=0, hidden_layer_sizes=10) \n",
        "mlp.fit(X_train, y_train)"
      ],
      "metadata": {
        "colab": {
          "base_uri": "https://localhost:8080/"
        },
        "id": "cVW55zq3ZhyB",
        "outputId": "84714aa2-8dc4-455e-9e62-aff367b1828d"
      },
      "execution_count": 41,
      "outputs": [
        {
          "output_type": "execute_result",
          "data": {
            "text/plain": [
              "MLPClassifier(hidden_layer_sizes=10, random_state=0, solver='lbfgs')"
            ]
          },
          "metadata": {},
          "execution_count": 41
        }
      ]
    },
    {
      "cell_type": "markdown",
      "source": [
        "Model evaluation"
      ],
      "metadata": {
        "id": "Vd_edh3wdgRc"
      }
    },
    {
      "cell_type": "code",
      "source": [
        "#accuracy on the training data \n",
        "y_train_prediction = mlp.predict(X_train)\n",
        "training_accuracy = accuracy_score(y_train_prediction, y_train)\n",
        "#accuracy on the testing data\n",
        "y_test_prediction = mlp.predict(X_test)\n",
        "testing_accuracy = accuracy_score(y_test_prediction, y_test)\n",
        "\n",
        "print(\"Training accuracy using MLP: {:.2f}\".format(training_accuracy))\n",
        "print(\"Testing accuracy using MLP: {:.2f}\".format(testing_accuracy))\n"
      ],
      "metadata": {
        "colab": {
          "base_uri": "https://localhost:8080/"
        },
        "id": "UUdALmwadfwq",
        "outputId": "0d9407fb-29ec-4218-ca7d-f5589e57e231"
      },
      "execution_count": 42,
      "outputs": [
        {
          "output_type": "stream",
          "name": "stdout",
          "text": [
            "Training accuracy using MLP: 0.99\n",
            "Testing accuracy using MLP: 0.88\n"
          ]
        }
      ]
    }
  ]
}